{
  "nbformat": 4,
  "nbformat_minor": 0,
  "metadata": {
    "colab": {
      "provenance": []
    },
    "kernelspec": {
      "name": "python3",
      "display_name": "Python 3"
    },
    "language_info": {
      "name": "python"
    }
  },
  "cells": [
    {
      "cell_type": "markdown",
      "source": [
        "THIS WAS RUN ON GG COLAB"
      ],
      "metadata": {
        "id": "QPf8WBUut6WP"
      }
    },
    {
      "cell_type": "markdown",
      "source": [
        "# Check"
      ],
      "metadata": {
        "id": "j6k71nZut3TW"
      }
    },
    {
      "cell_type": "code",
      "source": [
        "from google.colab import drive\n",
        "drive.mount('/content/drive')\n",
        "del drive"
      ],
      "metadata": {
        "id": "htBy0mjutlam"
      },
      "execution_count": null,
      "outputs": []
    },
    {
      "cell_type": "code",
      "source": [
        "!cat /proc/meminfo"
      ],
      "metadata": {
        "id": "a4VJZkr0tmq7"
      },
      "execution_count": null,
      "outputs": []
    },
    {
      "cell_type": "code",
      "source": [
        "!cat /proc/cpuinfo"
      ],
      "metadata": {
        "id": "2Vuo1Ilftnu6"
      },
      "execution_count": null,
      "outputs": []
    },
    {
      "cell_type": "markdown",
      "source": [
        "# download  + check packages"
      ],
      "metadata": {
        "id": "-W_YPaZTtxkF"
      }
    },
    {
      "cell_type": "code",
      "source": [
        "!pip install sentinelhub\n",
        "\n",
        "from sentinelhub import SHConfig\n",
        "\n",
        "config = SHConfig()\n",
        "config\n",
        "del config"
      ],
      "metadata": {
        "id": "3O9tTtm4tpFy"
      },
      "execution_count": null,
      "outputs": []
    },
    {
      "cell_type": "markdown",
      "source": [
        "# code for download"
      ],
      "metadata": {
        "id": "OGGd1AzsuLC4"
      }
    },
    {
      "cell_type": "code",
      "source": [
        "from sentinelhub import SHConfig\n",
        "import datetime\n",
        "import os\n",
        "import matplotlib.pyplot as plt\n",
        "import numpy as np\n",
        "\n",
        "from sentinelhub import (\n",
        "    CRS,\n",
        "    BBox,\n",
        "    DataCollection,\n",
        "    DownloadRequest,\n",
        "    MimeType,\n",
        "    MosaickingOrder,\n",
        "    SentinelHubDownloadClient,\n",
        "    SentinelHubRequest,\n",
        "    bbox_to_dimensions,\n",
        ")\n",
        "\n",
        "max_download_attempts = 3\n",
        "\n",
        "config = SHConfig(instance_id='7e956740-b2bf-44ea-86ea-6b43c3c8ceda', sh_client_id='60e4df50-fb08-448c-b20d-8f8f97582d01', sh_client_secret = '3hWfbBQp^rXf(:k|#(au<^rplaBFo5_17/D]S#5}' )\n",
        "\n",
        "if not config.sh_client_id or not config.sh_client_secret:\n",
        "    print(\"Warning! To use Process API, please provide the credentials (OAuth client ID and client secret).\")\n",
        "\n",
        "\n",
        "sb_coords_wgs84 = (16.300278,48.178735,16.320062,48.186948) #  (longitude and latitude coordinates of lower left and upper right corners)\n",
        "resolution = 10\n",
        "sb_bbox = BBox(bbox=sb_coords_wgs84, crs=CRS.WGS84)\n",
        "sb_size = bbox_to_dimensions(sb_bbox, resolution=resolution) #\n",
        "\n",
        "for collection in DataCollection.get_available_collections():\n",
        "    print(collection)"
      ],
      "metadata": {
        "id": "gpn2wEVtuCXF"
      },
      "execution_count": null,
      "outputs": []
    },
    {
      "cell_type": "code",
      "source": [
        "evalscript_all_bands = \"\"\"\n",
        "    //VERSION=3\n",
        "    function setup() {\n",
        "        return {\n",
        "            input: [{\n",
        "                bands: [\"B01\",\"B02\",\"B03\",\"B04\",\"B05\",\"B06\",\"B07\",\"B08\",\"B8A\",\"B09\",\"B10\",\"B11\",\"B12\"],\n",
        "                units: \"DN\"\n",
        "            }],\n",
        "            output: {\n",
        "                bands: 12,\n",
        "                sampleType: \"INT16\"\n",
        "            }\n",
        "        };\n",
        "    }\n",
        "\n",
        "    function evaluatePixel(sample) {\n",
        "        return [sample.B01,\n",
        "                sample.B02,\n",
        "                sample.B03,\n",
        "                sample.B04,\n",
        "                sample.B05,\n",
        "                sample.B06,\n",
        "                sample.B07,\n",
        "                sample.B08,\n",
        "                sample.B8A,\n",
        "                sample.B09,\n",
        "                sample.B10,\n",
        "                sample.B11,\n",
        "                sample.B12];\n",
        "    }\n",
        "\"\"\"\n",
        "\n",
        "request_all_bands = SentinelHubRequest(\n",
        "    evalscript=evalscript_all_bands,\n",
        "    input_data=[\n",
        "        SentinelHubRequest.input_data(\n",
        "            data_collection=DataCollection.SENTINEL2_L1C, # SENTINEL2_L2A\n",
        "            time_interval=(\"2023-09-26\", \"2023-09-27\"),\n",
        "            mosaicking_order=MosaickingOrder.LEAST_CC,\n",
        "        )\n",
        "    ],\n",
        "    responses=[SentinelHubRequest.output_response(\"default\", MimeType.TIFF)],\n",
        "    bbox=sb_bbox,\n",
        "    size=sb_size,\n",
        "    config=config,\n",
        ")\n",
        "\n",
        "all_bands_response = request_all_bands.get_data()\n",
        "\n",
        "img_mean      = [1111.81236406, 824.63171476, 663.41636217, 445.17289745,\n",
        "                          645.8582926, 1547.73508126, 1960.44401001, 1941.32229668,\n",
        "                          674.07572865, 9.04787384, 1113.98338755, 519.90397929]   # means of 14 bands\n",
        "img_mean = np.expand_dims(np.array(img_mean), axis=(0, 1))\n",
        "\n",
        "imgs = np.array(all_bands_response)\n",
        "bgr = imgs[0]/img_mean\n",
        "bgr = bgr[:,:,1:4]"
      ],
      "metadata": {
        "id": "clZEIL0tuOcM"
      },
      "execution_count": null,
      "outputs": []
    },
    {
      "cell_type": "code",
      "source": [
        "def changeBGR2RGB(bgr_img):\n",
        "  \"\"\"\n",
        "    convert BGR to RGB image using Min-Max scaling\n",
        "  \"\"\"\n",
        "  if not isinstance(bgr_img, np.ndarray):\n",
        "    bgr_img = bgr_img.numpy()\n",
        "\n",
        "  red   = (bgr_img[:,:,2]-np.min(bgr_img[:,:,2])) / (np.max(bgr_img[:,:,2])-np.min(bgr_img[:,:,2]))\n",
        "  green = (bgr_img[:,:,1]-np.min(bgr_img[:,:,1])) / (np.max(bgr_img[:,:,1])-np.min(bgr_img[:,:,1]))\n",
        "  blue  = (bgr_img[:,:,0]-np.min(bgr_img[:,:,0])) / (np.max(bgr_img[:,:,0])-np.min(bgr_img[:,:,0]))\n",
        "\n",
        "  red   = np.expand_dims(red, axis=2)\n",
        "  green = np.expand_dims(green, axis=2)\n",
        "  blue  = np.expand_dims(blue, axis=2)\n",
        "\n",
        "  rgb   = np.concatenate((red, green), axis=-1)\n",
        "  rgb   = np.concatenate((rgb, blue), axis=-1)\n",
        "\n",
        "  return rgb\n",
        "\n",
        "rgb = changeBGR2RGB(bgr)\n",
        "print('\\n =================================== ')\n",
        "print(np.min(rgb[:,:,0]), np.max(rgb[:,:,0]))\n",
        "print(np.min(rgb[:,:,1]), np.max(rgb[:,:,1]))\n",
        "print(np.min(rgb[:,:,2]), np.max(rgb[:,:,2]))\n",
        "print('\\n =================================== ')\n",
        "\n",
        "plt.imshow(rgb)\n",
        "plt.show()"
      ],
      "metadata": {
        "id": "MbcPfjDxuQNc"
      },
      "execution_count": null,
      "outputs": []
    }
  ]
}